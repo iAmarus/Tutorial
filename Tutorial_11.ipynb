{
  "nbformat": 4,
  "nbformat_minor": 0,
  "metadata": {
    "colab": {
      "provenance": [],
      "authorship_tag": "ABX9TyPoI23GeIplzDAxL52LIK+O",
      "include_colab_link": true
    },
    "kernelspec": {
      "name": "python3",
      "display_name": "Python 3"
    },
    "language_info": {
      "name": "python"
    }
  },
  "cells": [
    {
      "cell_type": "markdown",
      "metadata": {
        "id": "view-in-github",
        "colab_type": "text"
      },
      "source": [
        "<a href=\"https://colab.research.google.com/github/iAmarus/Tutorial/blob/main/Tutorial_11.ipynb\" target=\"_parent\"><img src=\"https://colab.research.google.com/assets/colab-badge.svg\" alt=\"Open In Colab\"/></a>"
      ]
    },
    {
      "cell_type": "code",
      "source": [
        "## Student Name: Mohammed Alnajjar\n",
        "## ID: 4102947"
      ],
      "metadata": {
        "id": "hFjZCMYJI7kW"
      },
      "execution_count": null,
      "outputs": []
    },
    {
      "cell_type": "code",
      "execution_count": null,
      "metadata": {
        "id": "1gsf5_jhIMSA"
      },
      "outputs": [],
      "source": [
        "import heapq"
      ]
    },
    {
      "cell_type": "code",
      "source": [
        "def create_skip_pointers(postings_list, skip_interval):\n",
        "  postings_with_skips = []\n",
        "  skip_count = 0\n",
        "  for posting in postings_list:\n",
        "    if skip_count % skip_interval == 0:\n",
        "      postings_with_skips.append((posting, skip_count))\n",
        "    skip_count += 1\n",
        "  return postings_with_skips"
      ],
      "metadata": {
        "id": "kNeBvne0IWI_"
      },
      "execution_count": null,
      "outputs": []
    },
    {
      "cell_type": "code",
      "source": [
        "def merge_postings_lists_with_skips(postings_lists):\n",
        "  merged_list = []\n",
        "  heap = []\n",
        "  # Initialize the heap with the first element from each postings list\n",
        "  for i, postings_list in enumerate(postings_lists):\n",
        "    if postings_list:\n",
        "      heapq.heappush(heap, (postings_list[0][0], i))\n",
        "  # Merge the postings lists\n",
        "  while heap:\n",
        "    current_posting, list_index = heapq.heappop(heap)\n",
        "    merged_list.append(current_posting)\n",
        "    if len(postings_lists[list_index]) > 1:\n",
        "      next_posting, skip = postings_lists[list_index][1]\n",
        "      postings_lists[list_index] = postings_lists[list_index][1:]\n",
        "      # Check if skip pointer can be used\n",
        "      if skip is not None and len(postings_lists[list_index]) > 1 and postings_lists[list_index][0][1] < skip:\n",
        "       heapq.heappush(heap, (next_posting, list_index))\n",
        "    # Push the next posting from the current list\n",
        "    elif postings_lists[list_index]:\n",
        "      heapq.heappush(heap, (postings_lists[list_index][0][0], list_index))\n",
        "  return merged_list"
      ],
      "metadata": {
        "id": "y8rSztwOIYVb"
      },
      "execution_count": null,
      "outputs": []
    },
    {
      "cell_type": "code",
      "source": [
        "# Sample Postings Lists with Skip Pointers\n",
        "postings_list_1 = create_skip_pointers([1, 4, 7, 8, 10, 12, 14, 18, 20], 3)\n",
        "postings_list_2 = create_skip_pointers([2, 3, 5, 9, 11, 13, 16, 19], 2)\n",
        "postings_list_3 = create_skip_pointers([6, 15, 17], 1)\n",
        "# Merge Postings Lists with Skip Pointers\n",
        "merged_list = merge_postings_lists_with_skips([postings_list_1, postings_list_2, postings_list_3])\n",
        "# Print the Merged Postings List\n",
        "print(\"Merged Postings List:\", merged_list)"
      ],
      "metadata": {
        "colab": {
          "base_uri": "https://localhost:8080/"
        },
        "id": "gUuCrOfWI0Do",
        "outputId": "50493466-f060-4df8-d1cd-fa648aba1191"
      },
      "execution_count": null,
      "outputs": [
        {
          "output_type": "stream",
          "name": "stdout",
          "text": [
            "Merged Postings List: [1, 2, 6]\n"
          ]
        }
      ]
    },
    {
      "cell_type": "code",
      "source": [],
      "metadata": {
        "id": "M9f-jRSNI3Bu"
      },
      "execution_count": null,
      "outputs": []
    }
  ]
}