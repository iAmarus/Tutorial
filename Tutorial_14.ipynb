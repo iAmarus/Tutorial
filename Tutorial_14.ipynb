{
  "nbformat": 4,
  "nbformat_minor": 0,
  "metadata": {
    "colab": {
      "provenance": [],
      "authorship_tag": "ABX9TyO904WAeQyptvVCYJ54JAqO",
      "include_colab_link": true
    },
    "kernelspec": {
      "name": "python3",
      "display_name": "Python 3"
    },
    "language_info": {
      "name": "python"
    }
  },
  "cells": [
    {
      "cell_type": "markdown",
      "metadata": {
        "id": "view-in-github",
        "colab_type": "text"
      },
      "source": [
        "<a href=\"https://colab.research.google.com/github/iAmarus/Tutorial/blob/main/Tutorial_14.ipynb\" target=\"_parent\"><img src=\"https://colab.research.google.com/assets/colab-badge.svg\" alt=\"Open In Colab\"/></a>"
      ]
    },
    {
      "cell_type": "code",
      "source": [
        "## Student Name: Mohammed Alnajjar\n",
        "## ID: 4102947"
      ],
      "metadata": {
        "id": "LrGQxHKMJNhd"
      },
      "execution_count": null,
      "outputs": []
    },
    {
      "cell_type": "code",
      "source": [
        "def calculate_cdg(relevance_list):\n",
        "  # # Implementation of CDG calculation\n",
        "  # pass\n",
        "  \"\"\"\n",
        "  Calculate Cumulative Discount Gain (CDG).\n",
        "  Parameters:\n",
        "  - relevance_list (list): A list of relevance judgments (0: not relevant, 1: somewhat rel\n",
        "  Returns:\n",
        "  - cdg (float): Cumulative Discount Gain value.\n",
        "  \"\"\"\n",
        "  cdg = 0\n",
        "  for i, rel in enumerate (relevance_list):\n",
        "    discount = 1 / (i + 1) # Discount factor based on position\n",
        "    cdg += (2**rel - 1) * discount\n",
        "  return cdg"
      ],
      "metadata": {
        "id": "2sf9PNxwivMH"
      },
      "execution_count": null,
      "outputs": []
    },
    {
      "cell_type": "code",
      "source": [
        "def calculate_icdg(relevance_list):\n",
        "  # # Implementation of iCDG calculation\n",
        "  # pass\n",
        "  \"\"\"\n",
        "  Calculate Ideal Cumulative Discount Gain (iCDG).\n",
        "  Parameters:\n",
        "  - relevance_list (list): A list of relevance judgments (0: not relevant, 1: somewhat rel\n",
        "  Returns:\n",
        "  - icdg (float): Ideal Cumulative Discount Gain value.\n",
        "  \"\"\"\n",
        "  sorted_rel = sorted(relevance_list, reverse=True)\n",
        "  icdg = 0\n",
        "  for i, rel in enumerate (sorted_rel):\n",
        "    discount = 1 / (i + 1) # Discount factor based on position\n",
        "    icdg += (2**rel - 1) * discount\n",
        "  return icdg"
      ],
      "metadata": {
        "id": "UMVn8yeLKJkr"
      },
      "execution_count": null,
      "outputs": []
    },
    {
      "cell_type": "code",
      "source": [
        "# Example usage\n",
        "relevance_list = [3, 2, 3, 0, 1, 2] # Replace with your relevance judgments\n",
        "cdg_result = calculate_cdg(relevance_list)\n",
        "icdg_result = calculate_icdg(relevance_list)\n",
        "\n",
        "print (f\"CDG: {cdg_result}\")\n",
        "print(f\"iCDG: {icdg_result}\")\n",
        "\n",
        "print(\"\\n### Cumulative Discount Gain (CDG) Calculation:\")\n",
        "for i, rel in enumerate(relevance_list):\n",
        "  discount = 1 / (i + 1) # Discount factor based on position\n",
        "  print(f\"- Position {i + 1}: (2^{rel} - 1) * {discount:.4f}\")\n",
        "\n",
        "print(f\"\\n**CDG Result:** {cdg_result: 4f}\")\n",
        "\n",
        "print(\"\\n### Ideal Cumulative Discount Gain (iCDG) Calculation:\")\n",
        "for i, rel in enumerate(sorted(relevance_list, reverse=True)):\n",
        "  discount = 1 / (i + 1) # Discount factor based on position\n",
        "  print(f\"- Position {i + 1}: (2^{rel} - 1) * (discount:.4f?\")\n",
        "print(f\"\\n**iCDG Result:** {icdg_result: 4f}\")"
      ],
      "metadata": {
        "colab": {
          "base_uri": "https://localhost:8080/"
        },
        "id": "bahypRukKP2q",
        "outputId": "bdab9477-e45e-497d-88ed-bf2553a682bb"
      },
      "execution_count": null,
      "outputs": [
        {
          "output_type": "stream",
          "name": "stdout",
          "text": [
            "CDG: 11.533333333333331\n",
            "iCDG: 12.45\n",
            "\n",
            "### Cumulative Discount Gain (CDG) Calculation:\n",
            "- Position 1: (2^3 - 1) * 1.0000\n",
            "- Position 2: (2^2 - 1) * 0.5000\n",
            "- Position 3: (2^3 - 1) * 0.3333\n",
            "- Position 4: (2^0 - 1) * 0.2500\n",
            "- Position 5: (2^1 - 1) * 0.2000\n",
            "- Position 6: (2^2 - 1) * 0.1667\n",
            "\n",
            "**CDG Result:**  11.533333\n",
            "\n",
            "### Ideal Cumulative Discount Gain (iCDG) Calculation:\n",
            "- Position 1: (2^3 - 1) * (discount:.4f?\n",
            "- Position 2: (2^3 - 1) * (discount:.4f?\n",
            "- Position 3: (2^2 - 1) * (discount:.4f?\n",
            "- Position 4: (2^2 - 1) * (discount:.4f?\n",
            "- Position 5: (2^1 - 1) * (discount:.4f?\n",
            "- Position 6: (2^0 - 1) * (discount:.4f?\n",
            "\n",
            "**iCDG Result:**  12.450000\n"
          ]
        }
      ]
    },
    {
      "cell_type": "code",
      "source": [
        "nCDG= cdg_result/ icdg_result\n",
        "print(\"\\n Interpretation:\")\n",
        "print(f\"\\n * nCDG Result:{nCDG:.4f}\")\n"
      ],
      "metadata": {
        "colab": {
          "base_uri": "https://localhost:8080/"
        },
        "id": "v38pplbvKeTa",
        "outputId": "9e963403-c4cb-4541-a07a-d81957661195"
      },
      "execution_count": null,
      "outputs": [
        {
          "output_type": "stream",
          "name": "stdout",
          "text": [
            "\n",
            " Interpretation:\n",
            "\n",
            " * nCDG Result:0.9264\n"
          ]
        }
      ]
    },
    {
      "cell_type": "code",
      "source": [],
      "metadata": {
        "id": "GMz2f7N7K6PL"
      },
      "execution_count": null,
      "outputs": []
    }
  ]
}