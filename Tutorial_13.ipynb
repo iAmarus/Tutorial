{
  "nbformat": 4,
  "nbformat_minor": 0,
  "metadata": {
    "colab": {
      "provenance": [],
      "authorship_tag": "ABX9TyMX37X5dnA+FGh2uRx7lCID",
      "include_colab_link": true
    },
    "kernelspec": {
      "name": "python3",
      "display_name": "Python 3"
    },
    "language_info": {
      "name": "python"
    }
  },
  "cells": [
    {
      "cell_type": "markdown",
      "metadata": {
        "id": "view-in-github",
        "colab_type": "text"
      },
      "source": [
        "<a href=\"https://colab.research.google.com/github/iAmarus/Tutorial/blob/main/Tutorial_13.ipynb\" target=\"_parent\"><img src=\"https://colab.research.google.com/assets/colab-badge.svg\" alt=\"Open In Colab\"/></a>"
      ]
    },
    {
      "cell_type": "code",
      "source": [
        "## Student Name: Mohammed Alnajjar\n",
        "## ID: 4102947"
      ],
      "metadata": {
        "id": "ojSqPKsYG5t7"
      },
      "execution_count": null,
      "outputs": []
    },
    {
      "cell_type": "code",
      "execution_count": null,
      "metadata": {
        "id": "PUhQIDPXBnot"
      },
      "outputs": [],
      "source": [
        "# Step 1: Define the edit distance function\n",
        "def edit_distance(s1, s2):\n",
        "  m, n = len(s1), len(s2)\n",
        "\n",
        "  # Step 2: Initialize the edit distance matrix\n",
        "  dp = [[0 for _ in range(n + 1)] for _ in range(m + 1)]\n",
        "\n",
        "  # Step 3: Fill the first row and first column of the matrix\n",
        "  for i in range(m + 1):\n",
        "    dp[i][0] = i\n",
        "\n",
        "  for j in range(n + 1):\n",
        "    dp[0][j] = j\n",
        "\n",
        "  # Step 4: Fill the rest of the matrix\n",
        "  for i in range(1, m + 1):\n",
        "    for j in range(1, n + 1):\n",
        "      if s1[i - 1] == s2[j - 1]:\n",
        "        dp[i][j] = dp[i - 1][j - 1]\n",
        "      else:\n",
        "        dp[i][j] = 1 + min(dp[i - 1][j], dp[i][j - 1], dp[i - 1][j - 1])\n",
        "\n",
        "  # Step 5: Return the edit distance between the two strings\n",
        "  return dp[m][n]"
      ]
    },
    {
      "cell_type": "code",
      "source": [
        "s1 = \"kitten\"\n",
        "s2 = \"sitting\"\n",
        "\n",
        "result = edit_distance(s1, s2)\n",
        "\n",
        "print(\"Edit distance between '{}' and '{}': {}\".format(s1, s2, result))"
      ],
      "metadata": {
        "colab": {
          "base_uri": "https://localhost:8080/"
        },
        "id": "rnWFkL61ETM3",
        "outputId": "082963e9-8fc5-481f-b5e6-bee6f39f8bde"
      },
      "execution_count": null,
      "outputs": [
        {
          "output_type": "stream",
          "name": "stdout",
          "text": [
            "Edit distance between 'kitten' and 'sitting': 3\n"
          ]
        }
      ]
    },
    {
      "cell_type": "code",
      "source": [
        "# Sample vocabulary\n",
        "vocabulary = ['apple', 'banana', 'orange', 'pear', 'grape']\n",
        "\n",
        "# Input word with a spelling mistake\n",
        "misspelled_word = 'oragn'\n",
        "\n",
        "# Find the closest word in the vocabulary using edit distance\n",
        "closest_word = min(vocabulary, key=lambda word: edit_distance(misspelled_word, word))\n",
        "\n",
        "print(\"Input word:\", misspelled_word)\n",
        "print(\"Closest word:\", closest_word)"
      ],
      "metadata": {
        "colab": {
          "base_uri": "https://localhost:8080/"
        },
        "id": "EJm9_D0HEuVg",
        "outputId": "2323c5d7-db2a-474b-d310-f7fbd34329b4"
      },
      "execution_count": null,
      "outputs": [
        {
          "output_type": "stream",
          "name": "stdout",
          "text": [
            "Input word: oragn\n",
            "Closest word: orange\n"
          ]
        }
      ]
    },
    {
      "cell_type": "code",
      "source": [
        "# Sample documents\n",
        "document1 = \"The quick brown fox jumps over the lazy dog.\"\n",
        "document2 = \"The quick brown fox jumps over the sleeping dog.\"\n",
        "\n",
        "# Calculate the edit distance between the documents\n",
        "edit_distance_value = edit_distance(document1, document2)\n",
        "\n",
        "print(\"Edit distance between the two documents:\", edit_distance_value)"
      ],
      "metadata": {
        "colab": {
          "base_uri": "https://localhost:8080/"
        },
        "id": "XdhD8Z-aGjpu",
        "outputId": "89b33f68-913b-45ff-e57f-af8d55535289"
      },
      "execution_count": null,
      "outputs": [
        {
          "output_type": "stream",
          "name": "stdout",
          "text": [
            "Edit distance between the two documents: 7\n"
          ]
        }
      ]
    },
    {
      "cell_type": "code",
      "source": [
        "s1 = \"ahmad\"\n",
        "s2 = \"mohammed\"\n",
        "\n",
        "result = edit_distance(s1, s2)\n",
        "\n",
        "print(\"Edit distance between '{}' and '{}': {}\".format(s1, s2, result))"
      ],
      "metadata": {
        "colab": {
          "base_uri": "https://localhost:8080/"
        },
        "id": "TLyiNujMGrt9",
        "outputId": "de0b10ef-62ac-4b13-f98f-d7a5cfa76f68"
      },
      "execution_count": null,
      "outputs": [
        {
          "output_type": "stream",
          "name": "stdout",
          "text": [
            "Edit distance between 'ahmad' and 'mohammed': 5\n"
          ]
        }
      ]
    },
    {
      "cell_type": "code",
      "source": [],
      "metadata": {
        "id": "1A7PqldyIswJ"
      },
      "execution_count": null,
      "outputs": []
    }
  ]
}