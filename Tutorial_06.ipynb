{
  "nbformat": 4,
  "nbformat_minor": 0,
  "metadata": {
    "colab": {
      "provenance": [],
      "authorship_tag": "ABX9TyMSWFHKnmROAZpNftE8YhdU",
      "include_colab_link": true
    },
    "kernelspec": {
      "name": "python3",
      "display_name": "Python 3"
    },
    "language_info": {
      "name": "python"
    }
  },
  "cells": [
    {
      "cell_type": "markdown",
      "metadata": {
        "id": "view-in-github",
        "colab_type": "text"
      },
      "source": [
        "<a href=\"https://colab.research.google.com/github/iAmarus/Tutorial/blob/main/Tutorial_06.ipynb\" target=\"_parent\"><img src=\"https://colab.research.google.com/assets/colab-badge.svg\" alt=\"Open In Colab\"/></a>"
      ]
    },
    {
      "cell_type": "code",
      "source": [
        "## Student Name: Mohammed Alnajjar\n",
        "## ID: 4102947"
      ],
      "metadata": {
        "id": "PUNGnlQEHOml"
      },
      "execution_count": null,
      "outputs": []
    },
    {
      "cell_type": "code",
      "execution_count": null,
      "metadata": {
        "id": "FhUwsL737DhK"
      },
      "outputs": [],
      "source": [
        "from collections import defaultdict"
      ]
    },
    {
      "cell_type": "code",
      "source": [
        "def generate_permuterm_index(term):\n",
        "\n",
        "  permuterm_index = defaultdict(list)\n",
        "\n",
        "  term = term + \"$\" # Add a unique character to mark the end of the term\n",
        "\n",
        "  for i in range(len(term)):\n",
        "\n",
        "    permuterm = term[i:] + term[:i] # Generate a rotation (permutation) of the term\n",
        "\n",
        "    permuterm_index[permuterm].append(term) # Add the rotation to the Permuterm Index\n",
        "\n",
        "  return permuterm_index"
      ],
      "metadata": {
        "id": "2hCLx6nW7QuA"
      },
      "execution_count": null,
      "outputs": []
    },
    {
      "cell_type": "code",
      "source": [
        "def query_permuterm_index (query, permuterm_index):\n",
        "  matches = []\n",
        "  query = query + \"$\" # Add a unique character to mark the end of the query\n",
        "  wildcard_pos = query.index(\"*\") # Find the position of the wildcard character\n",
        "  prefix = query[:wildcard_pos] # Extract the prefix before the wildcard\n",
        "  suffix = query[wildcard_pos + 1:] # Extract the suffix after the wildcard\n",
        "  print(f'''****************\n",
        "  Query :{query}\n",
        "  Prefix: {prefix}\n",
        "  Suffix: {suffix}\n",
        "  ''')\n",
        "  for permuterm in permuterm_index.keys():\n",
        "    print (permuterm)\n",
        "    if permuterm.startswith(suffix): #or permuterm. endswith(prefix):\n",
        "       matches.extend(permuterm_index[permuterm]) # Add matching terms to the results\n",
        "  return matches"
      ],
      "metadata": {
        "id": "ycZ76Fdm7qAQ"
      },
      "execution_count": null,
      "outputs": []
    },
    {
      "cell_type": "code",
      "source": [
        "# Sample Set of Terms\n",
        "terms = [\"apple\", \"banana\", \"cat\", \"dog\", \"elephant\"]\n",
        "# Generate the Permuterm Index\n",
        "permuterm_index = defaultdict(list)\n",
        "for term in terms:\n",
        "  permuterm_index.update(generate_permuterm_index(term))\n",
        "# Query the Permuterm Index\n",
        "query = \"a*ple\"\n",
        "matches = query_permuterm_index(query, permuterm_index)\n",
        "# Print the Results|\n",
        "print(f\"Terms matching the query '{query}':\")\n",
        "print (matches)"
      ],
      "metadata": {
        "colab": {
          "base_uri": "https://localhost:8080/"
        },
        "id": "hxrUeO_W8dzG",
        "outputId": "d55c2bd8-1d26-4725-83cd-39463b4f0761"
      },
      "execution_count": null,
      "outputs": [
        {
          "output_type": "stream",
          "name": "stdout",
          "text": [
            "****************\n",
            "  Query :a*ple$\n",
            "  Prefix: a\n",
            "  Suffix: ple$\n",
            "  \n",
            "apple$\n",
            "pple$a\n",
            "ple$ap\n",
            "le$app\n",
            "e$appl\n",
            "$apple\n",
            "banana$\n",
            "anana$b\n",
            "nana$ba\n",
            "ana$ban\n",
            "na$bana\n",
            "a$banan\n",
            "$banana\n",
            "cat$\n",
            "at$c\n",
            "t$ca\n",
            "$cat\n",
            "dog$\n",
            "og$d\n",
            "g$do\n",
            "$dog\n",
            "elephant$\n",
            "lephant$e\n",
            "ephant$el\n",
            "phant$ele\n",
            "hant$elep\n",
            "ant$eleph\n",
            "nt$elepha\n",
            "t$elephan\n",
            "$elephant\n",
            "Terms matching the query 'a*ple':\n",
            "['apple$']\n"
          ]
        }
      ]
    },
    {
      "cell_type": "code",
      "source": [],
      "metadata": {
        "id": "ilb5yY_68qb2"
      },
      "execution_count": null,
      "outputs": []
    }
  ]
}