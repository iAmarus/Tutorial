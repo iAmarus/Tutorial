{
  "nbformat": 4,
  "nbformat_minor": 0,
  "metadata": {
    "colab": {
      "provenance": [],
      "authorship_tag": "ABX9TyP6RG/KvSK5nU3E9+iECEC9",
      "include_colab_link": true
    },
    "kernelspec": {
      "name": "python3",
      "display_name": "Python 3"
    },
    "language_info": {
      "name": "python"
    }
  },
  "cells": [
    {
      "cell_type": "markdown",
      "metadata": {
        "id": "view-in-github",
        "colab_type": "text"
      },
      "source": [
        "<a href=\"https://colab.research.google.com/github/iAmarus/Tutorial/blob/main/Tutorial_07.ipynb\" target=\"_parent\"><img src=\"https://colab.research.google.com/assets/colab-badge.svg\" alt=\"Open In Colab\"/></a>"
      ]
    },
    {
      "cell_type": "code",
      "source": [
        "## Student Name: Mohammed Alnajjar\n",
        "## ID: 4102947"
      ],
      "metadata": {
        "id": "YHvtX3DDHdfS"
      },
      "execution_count": null,
      "outputs": []
    },
    {
      "cell_type": "code",
      "execution_count": null,
      "metadata": {
        "id": "Xcoo1kNIWWKj"
      },
      "outputs": [],
      "source": [
        "import re\n",
        "from collections import defaultdict"
      ]
    },
    {
      "cell_type": "code",
      "source": [
        "def get_soundex_code(word):\n",
        "  word = word.upper()\n",
        "  word = re.sub(r'[^A-Z]', '', word)\n",
        "  if not word:\n",
        "    return ''\n",
        "\n",
        "  soundex_code = word[0]\n",
        "  encoding_map = {'BFPV' : '1', 'CGJKQSXZ' : '2', 'DT' : '3', 'L' : '4', 'MN': '5', 'R': '6'}\n",
        "  for encoding, digit in encoding_map.items():\n",
        "    soundex_code += ''.join(digit if letter in encoding else '' for letter in word[1:])\n",
        "\n",
        "  soundex_code = re.sub(r'(.)\\1+', r'\\1', soundex_code)\n",
        "\n",
        "  soundex_code = soundex_code.replace(soundex_code[0], '', 1)\n",
        "  soundex_code = re.sub(r'[AEIOUY]', '', soundex_code)\n",
        "\n",
        "  soundex_code = soundex_code.ljust(4, '0')\n",
        "  soundex_code = soundex_code[:4]\n",
        "\n",
        "  return soundex_code"
      ],
      "metadata": {
        "id": "aKDRKEhjWcf1"
      },
      "execution_count": null,
      "outputs": []
    },
    {
      "cell_type": "code",
      "source": [
        "def build_soundex_index(words):\n",
        "  soundex_index = defaultdict(list)\n",
        "  for word in words:\n",
        "    soundex_code = get_soundex_code (word)\n",
        "    soundex_index[soundex_code].append(word)\n",
        "  return soundex_index"
      ],
      "metadata": {
        "id": "wMzUnU3IW59p"
      },
      "execution_count": null,
      "outputs": []
    },
    {
      "cell_type": "code",
      "source": [
        "def find_similar_sounding_words (query, soundex_index):\n",
        "  soundex_code = get_soundex_code (query)\n",
        "  return soundex_index[soundex_code]\n"
      ],
      "metadata": {
        "id": "_RjmX47bZoPP"
      },
      "execution_count": null,
      "outputs": []
    },
    {
      "cell_type": "code",
      "source": [
        "words = [\n",
        "    'Robert' , 'Rupert', 'Rubin' , 'Robby', 'Rabat', 'Rabbit',\n",
        "    'Smith', 'Smyth', 'Smythe' , 'Schmidt', 'Schmitz', 'Mohammed' , 'Muhammed'\n",
        "  ]\n",
        "\n",
        "soundex_index = build_soundex_index (words)\n",
        "\n",
        "query = 'Mohammed'\n",
        "similar_words = find_similar_sounding_words (query, soundex_index)\n",
        "\n",
        "print(f\"Words similar to '{query}':\")\n",
        "print(similar_words)\n",
        "print(soundex_index)"
      ],
      "metadata": {
        "colab": {
          "base_uri": "https://localhost:8080/"
        },
        "id": "A061BQszZ0pv",
        "outputId": "fd45010b-5603-4360-d5b5-a2b8675a6d6a"
      },
      "execution_count": null,
      "outputs": [
        {
          "output_type": "stream",
          "name": "stdout",
          "text": [
            "Words similar to 'Mohammed':\n",
            "['Smith', 'Smyth', 'Smythe', 'Mohammed', 'Muhammed']\n",
            "defaultdict(<class 'list'>, {'1360': ['Robert', 'Rupert'], '1500': ['Rubin'], '1000': ['Robby'], '1300': ['Rabat', 'Rabbit'], '3500': ['Smith', 'Smyth', 'Smythe', 'Mohammed', 'Muhammed'], '2350': ['Schmidt', 'Schmitz']})\n"
          ]
        }
      ]
    },
    {
      "cell_type": "code",
      "source": [
        "def get_soundex_code_ar(word):\n",
        "  word = word.upper()\n",
        "  word = re.sub(r'[^ا-ي]', '', word)\n",
        "  if not word:\n",
        "    return ''\n",
        "\n",
        "  soundex_code = word[0]\n",
        "  encoding_map = {'ف,ب' : '1', 'خ,ج,ز,س,ص,ظ,,ك' : '2', 'ت,ث,د,ذ,ض,ط' : '3', 'ل': '4', 'م,ن':'5', 'ر':'6'}\n",
        "  for encoding, digit in encoding_map.items():\n",
        "    soundex_code += ''.join(digit if letter in encoding else '' for letter in word[1:])\n",
        "\n",
        "  soundex_code = re.sub(r'(.)\\1+', r'\\1', soundex_code)\n",
        "\n",
        "  soundex_code = soundex_code.replace(soundex_code[0], '', 1)\n",
        "  soundex_code = re.sub(r'[ح,ع,غ,ش,و,ي]', '', soundex_code)\n",
        "\n",
        "  soundex_code = soundex_code.ljust(4, '0')\n",
        "  soundex_code = soundex_code[:4]\n",
        "\n",
        "  return soundex_code"
      ],
      "metadata": {
        "id": "W-L0i8sGafpW"
      },
      "execution_count": null,
      "outputs": []
    },
    {
      "cell_type": "code",
      "source": [
        "def build_soundex_index_ar(words):\n",
        "  soundex_index = defaultdict(list)\n",
        "  for word in words:\n",
        "    soundex_code = get_soundex_code_ar (word)\n",
        "    soundex_index[soundex_code].append(word)\n",
        "  return soundex_index"
      ],
      "metadata": {
        "id": "88dMcL6ud-WC"
      },
      "execution_count": null,
      "outputs": []
    },
    {
      "cell_type": "code",
      "source": [
        "def find_similar_sounding_words_ar (query, soundex_index):\n",
        "  soundex_code = get_soundex_code_ar (query)\n",
        "  return soundex_index[soundex_code]"
      ],
      "metadata": {
        "id": "ZGtvHElteEai"
      },
      "execution_count": null,
      "outputs": []
    },
    {
      "cell_type": "code",
      "source": [
        "words = [\n",
        "    'احمد' , 'محمد', 'محمدا' , 'محمود', 'حامد', 'عمير',\n",
        "    'عامر', 'عمر', 'طارق' , 'نجار', 'النجار', 'علي' , 'علي'\n",
        "  ]\n",
        "\n",
        "soundex_index = build_soundex_index_ar (words)\n",
        "\n",
        "query = 'علي'\n",
        "similar_words = find_similar_sounding_words_ar (query, soundex_index)\n",
        "\n",
        "print(f\"Words similar to '{query}':\")\n",
        "print(similar_words)\n",
        "print(soundex_index)"
      ],
      "metadata": {
        "colab": {
          "base_uri": "https://localhost:8080/"
        },
        "id": "pZPC2hpodrAl",
        "outputId": "51e7eb23-0349-4c66-fa8b-cd42e60f73e5"
      },
      "execution_count": null,
      "outputs": [
        {
          "output_type": "stream",
          "name": "stdout",
          "text": [
            "Words similar to 'علي':\n",
            "['علي', 'علي']\n",
            "defaultdict(<class 'list'>, {'3500': ['احمد', 'محمد', 'محمدا', 'محمود', 'حامد'], '5600': ['عمير', 'عامر', 'عمر'], '6000': ['طارق'], '2600': ['نجار'], '2456': ['النجار'], '4000': ['علي', 'علي']})\n"
          ]
        }
      ]
    },
    {
      "cell_type": "code",
      "source": [],
      "metadata": {
        "id": "61oiWtM7eoyM"
      },
      "execution_count": null,
      "outputs": []
    }
  ]
}