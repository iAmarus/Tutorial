{
  "nbformat": 4,
  "nbformat_minor": 0,
  "metadata": {
    "colab": {
      "provenance": [],
      "authorship_tag": "ABX9TyNxLmw6cSHyajAJiL2NIF5y",
      "include_colab_link": true
    },
    "kernelspec": {
      "name": "python3",
      "display_name": "Python 3"
    },
    "language_info": {
      "name": "python"
    }
  },
  "cells": [
    {
      "cell_type": "markdown",
      "metadata": {
        "id": "view-in-github",
        "colab_type": "text"
      },
      "source": [
        "<a href=\"https://colab.research.google.com/github/iAmarus/Tutorial/blob/main/Tutorial_03.ipynb\" target=\"_parent\"><img src=\"https://colab.research.google.com/assets/colab-badge.svg\" alt=\"Open In Colab\"/></a>"
      ]
    },
    {
      "cell_type": "code",
      "source": [
        "## Student Name: Mohammed Alnajjar\n",
        "## ID: 4102947"
      ],
      "metadata": {
        "id": "8dN6gZ4oGnm-"
      },
      "execution_count": null,
      "outputs": []
    },
    {
      "cell_type": "code",
      "execution_count": null,
      "metadata": {
        "id": "YVqcLZZb5S0D"
      },
      "outputs": [],
      "source": [
        "def intersect_postings_list(postings_list1, postings_list2):\n",
        "  intersected_list = []\n",
        "  i, j = 0, 0\n",
        "  while i < len(postings_list1) and j < len(postings_list2):\n",
        "      if postings_list1[i] == postings_list2[j]:\n",
        "        intersected_list.append(postings_list1[i])\n",
        "        i += 1\n",
        "        j += 1\n",
        "      elif postings_list1[i] < postings_list2[j]:\n",
        "        i += 1\n",
        "      else:\n",
        "        j += 1\n",
        "  return intersected_list"
      ]
    },
    {
      "cell_type": "code",
      "source": [
        "postings_list1 = [1, 3, 5, 7, 9]\n",
        "postings_list2 = [2, 3, 5, 6, 7]\n",
        "# Intersect the postings lists\n",
        "intersected_list = intersect_postings_list(postings_list1, postings_list2)\n",
        "# Print the intersected list\n",
        "print(\"Intersected List:\", intersected_list)"
      ],
      "metadata": {
        "colab": {
          "base_uri": "https://localhost:8080/"
        },
        "id": "V3kvWsCC8eOA",
        "outputId": "d6c43fa3-408b-4663-a5f5-874f859ed9d8"
      },
      "execution_count": null,
      "outputs": [
        {
          "output_type": "stream",
          "name": "stdout",
          "text": [
            "Intersected List: [3, 5, 7]\n"
          ]
        }
      ]
    },
    {
      "cell_type": "code",
      "source": [],
      "metadata": {
        "id": "JosK6A4a8zjG"
      },
      "execution_count": null,
      "outputs": []
    }
  ]
}