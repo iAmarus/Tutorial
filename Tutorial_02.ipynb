{
  "nbformat": 4,
  "nbformat_minor": 0,
  "metadata": {
    "colab": {
      "provenance": [],
      "toc_visible": true,
      "authorship_tag": "ABX9TyNFuGvCo1WjDAqYivSyii7b",
      "include_colab_link": true
    },
    "kernelspec": {
      "name": "python3",
      "display_name": "Python 3"
    },
    "language_info": {
      "name": "python"
    }
  },
  "cells": [
    {
      "cell_type": "markdown",
      "metadata": {
        "id": "view-in-github",
        "colab_type": "text"
      },
      "source": [
        "<a href=\"https://colab.research.google.com/github/iAmarus/Tutorial/blob/main/Tutorial_02.ipynb\" target=\"_parent\"><img src=\"https://colab.research.google.com/assets/colab-badge.svg\" alt=\"Open In Colab\"/></a>"
      ]
    },
    {
      "cell_type": "code",
      "source": [
        "## Student Name: Mohammed Alnajjar\n",
        "## ID: 4102947"
      ],
      "metadata": {
        "id": "xUlORd8hGIhp"
      },
      "execution_count": null,
      "outputs": []
    },
    {
      "cell_type": "code",
      "execution_count": null,
      "metadata": {
        "id": "0XGIs_Lv3iEw"
      },
      "outputs": [],
      "source": [
        "import nltk\n",
        "from nltk.tokenize import word_tokenize\n",
        "from nltk.corpus import stopwords\n",
        "from nltk.stem import PorterStemmer"
      ]
    },
    {
      "cell_type": "code",
      "source": [
        "nltk.download('punkt')\n",
        "nltk.download('stopwords')"
      ],
      "metadata": {
        "colab": {
          "base_uri": "https://localhost:8080/"
        },
        "id": "7ujylFM73kqt",
        "outputId": "27cfac55-3fef-463b-b5b9-f92983689afa"
      },
      "execution_count": null,
      "outputs": [
        {
          "output_type": "stream",
          "name": "stderr",
          "text": [
            "[nltk_data] Downloading package punkt to /root/nltk_data...\n",
            "[nltk_data]   Unzipping tokenizers/punkt.zip.\n",
            "[nltk_data] Downloading package stopwords to /root/nltk_data...\n",
            "[nltk_data]   Unzipping corpora/stopwords.zip.\n"
          ]
        },
        {
          "output_type": "execute_result",
          "data": {
            "text/plain": [
              "True"
            ]
          },
          "metadata": {},
          "execution_count": 2
        }
      ]
    },
    {
      "cell_type": "code",
      "source": [
        "def preprocess_document(document):\n",
        "  # Tokenize the document\n",
        "  tokens = word_tokenize(document)\n",
        "\n",
        "  # Remove punctuation and convert to lowercase\n",
        "  tokens = [token.lower() for token in tokens if token.isalpha()]\n",
        "\n",
        "  # Remove stop words\n",
        "  stop_words = set(stopwords.words('english'))\n",
        "  tokens = [token for token in tokens if token not in stop_words]\n",
        "\n",
        "  # Stemming\n",
        "  stemmer = PorterStemmer()\n",
        "  tokens = [stemmer.stem(token) for token in tokens]\n",
        "  return tokens"
      ],
      "metadata": {
        "id": "lxkczfSe3qeP"
      },
      "execution_count": null,
      "outputs": []
    },
    {
      "cell_type": "code",
      "source": [
        "document = \"The quick brown fox jumps over the lazy dog\"\n",
        "preprocess_document(document)"
      ],
      "metadata": {
        "colab": {
          "base_uri": "https://localhost:8080/"
        },
        "id": "D8ex5PDR316_",
        "outputId": "b094d8bc-a557-43d4-aa9d-002a0b5b10c2"
      },
      "execution_count": null,
      "outputs": [
        {
          "output_type": "execute_result",
          "data": {
            "text/plain": [
              "['quick', 'brown', 'fox', 'jump', 'lazi', 'dog']"
            ]
          },
          "metadata": {},
          "execution_count": 4
        }
      ]
    },
    {
      "cell_type": "code",
      "source": [
        "def build_inverted_index(documents):\n",
        "  inverted_index = {}\n",
        "  for doc_id, document in enumerate(documents):\n",
        "    terms = preprocess_document(document)\n",
        "    for term in terms:\n",
        "      if term not in inverted_index:\n",
        "        inverted_index[term] = set()\n",
        "      inverted_index[term].add(doc_id)\n",
        "  return inverted_index"
      ],
      "metadata": {
        "id": "SdlGyIKW4BcT"
      },
      "execution_count": null,
      "outputs": []
    },
    {
      "cell_type": "code",
      "source": [
        "documents = [\n",
        "\"The sky is blue\",\n",
        "\"The sun is bright\",\n",
        "\"The sky is cloudy\",\n",
        "\"The sun is shining\"\n",
        "]\n",
        "\n",
        "inverted_index_doc = build_inverted_index(documents)\n",
        "print(inverted_index_doc)"
      ],
      "metadata": {
        "colab": {
          "base_uri": "https://localhost:8080/"
        },
        "id": "tp7Hjqv-4OrW",
        "outputId": "c3b1b074-ff3f-4da7-a7f9-0d2fae269229"
      },
      "execution_count": null,
      "outputs": [
        {
          "output_type": "stream",
          "name": "stdout",
          "text": [
            "{'sky': {0, 2}, 'blue': {0}, 'sun': {1, 3}, 'bright': {1}, 'cloudi': {2}, 'shine': {3}}\n"
          ]
        }
      ]
    },
    {
      "cell_type": "code",
      "source": [
        "def boolean_query(query, inverted_index, documents):\n",
        "  query_terms = preprocess_document(query)\n",
        "  result = None\n",
        "  results = []\n",
        "\n",
        "  for term in query_terms:\n",
        "    if term in inverted_index:\n",
        "      term_docs = inverted_index[term]\n",
        "      if result is None:\n",
        "        results = term_docs\n",
        "      else:\n",
        "        results = result.intersection(term_docs)\n",
        "\n",
        "  if results is None:\n",
        "    print(\"No documents match the query.\")\n",
        "  else:\n",
        "    print(\"Matching Documents:\")\n",
        "    for doc_id in results:\n",
        "       print(f\"- Document {doc_id}: {documents[doc_id]}\")\n"
      ],
      "metadata": {
        "id": "x4ElIlI14YRe"
      },
      "execution_count": null,
      "outputs": []
    },
    {
      "cell_type": "code",
      "source": [
        "query = \"sky AND (blue OR cloudy)\"\n",
        "boolean_query(query, build_inverted_index(documents), documents)\n"
      ],
      "metadata": {
        "colab": {
          "base_uri": "https://localhost:8080/"
        },
        "id": "OKjoeOwS4ryf",
        "outputId": "b0f435f0-82f0-4827-89a8-92c5195fcaab"
      },
      "execution_count": null,
      "outputs": [
        {
          "output_type": "stream",
          "name": "stdout",
          "text": [
            "Matching Documents:\n",
            "- Document 2: The sky is cloudy\n"
          ]
        }
      ]
    },
    {
      "cell_type": "code",
      "source": [
        "s"
      ],
      "metadata": {
        "id": "GniLuH125D9J"
      },
      "execution_count": null,
      "outputs": []
    }
  ]
}